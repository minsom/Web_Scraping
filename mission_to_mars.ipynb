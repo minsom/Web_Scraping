{
 "cells": [
  {
   "cell_type": "code",
   "execution_count": 1,
   "metadata": {},
   "outputs": [],
   "source": [
    "# Declare Dependencies \n",
    "from bs4 import BeautifulSoup\n",
    "from splinter import Browser\n",
    "import requests\n",
    "import pandas as pd\n",
    "from pprint import pprint"
   ]
  },
  {
   "cell_type": "markdown",
   "metadata": {},
   "source": [
    "Windows User setup for Splinter"
   ]
  },
  {
   "cell_type": "code",
   "execution_count": 2,
   "metadata": {},
   "outputs": [],
   "source": [
    "# Choose the executable path to driver \n",
    "executable_path = {'executable_path': 'chromedriver.exe'}\n",
    "browser = Browser('chrome', **executable_path, headless=False)"
   ]
  },
  {
   "cell_type": "markdown",
   "metadata": {},
   "source": [
    "# Step 1 - Scraping\n",
    "\n",
    "## NASA Mars News"
   ]
  },
  {
   "cell_type": "code",
   "execution_count": 3,
   "metadata": {},
   "outputs": [],
   "source": [
    "# Visit Nasa news url through splinter module\n",
    "url = 'https://mars.nasa.gov/news/'\n",
    "browser.visit(url)"
   ]
  },
  {
   "cell_type": "code",
   "execution_count": 4,
   "metadata": {},
   "outputs": [
    {
     "name": "stdout",
     "output_type": "stream",
     "text": [
      "NASA's MRO Completes 60,000 Trips Around Mars\n",
      "------------------------------------------------------------\n",
      "The orbiting spacecraft is also about to set a record for data relayed from the Martian surface.\n"
     ]
    }
   ],
   "source": [
    "# HTML Object\n",
    "html = browser.html\n",
    "\n",
    "# Parse HTML with Beautiful Soup\n",
    "soup = BeautifulSoup(html, 'lxml')\n",
    "\n",
    "# Retrieve the latest element that contains news title and news_paragraph\n",
    "news_title = soup.find('div', class_='content_title').find('a').text\n",
    "news_p = soup.find('div', class_='article_teaser_body').text\n",
    "\n",
    "# Display scrapped data \n",
    "print(news_title)\n",
    "print(\"-\"*60)\n",
    "print(news_p)"
   ]
  },
  {
   "cell_type": "markdown",
   "metadata": {},
   "source": [
    "## JPL Mars Space Images - Featured Image"
   ]
  },
  {
   "cell_type": "code",
   "execution_count": 5,
   "metadata": {},
   "outputs": [],
   "source": [
    "# Visit Mars Space Images through splinter module\n",
    "image_url = 'https://www.jpl.nasa.gov/spaceimages/?search=&category=Mars'\n",
    "browser.visit(image_url)"
   ]
  },
  {
   "cell_type": "code",
   "execution_count": 6,
   "metadata": {
    "scrolled": true
   },
   "outputs": [],
   "source": [
    "# Click in 'FULL IMAGE' link to get a full image\n",
    "full_image_elem=browser.find_by_id('full_image').click()"
   ]
  },
  {
   "cell_type": "code",
   "execution_count": 7,
   "metadata": {},
   "outputs": [
    {
     "data": {
      "text/plain": [
       "True"
      ]
     },
     "execution_count": 7,
     "metadata": {},
     "output_type": "execute_result"
    }
   ],
   "source": [
    "# splinter seems to need more time for loading text 'more info'\n",
    "browser.is_text_present('more info',wait_time=5)"
   ]
  },
  {
   "cell_type": "code",
   "execution_count": 8,
   "metadata": {},
   "outputs": [],
   "source": [
    "# Click in 'more info' for full size image\n",
    "more_info_elem=browser.click_link_by_partial_text('more info')"
   ]
  },
  {
   "cell_type": "code",
   "execution_count": 9,
   "metadata": {},
   "outputs": [
    {
     "name": "stdout",
     "output_type": "stream",
     "text": [
      "https://www.jpl.nasa.gov/spaceimages/images/largesize/PIA20464_hires.jpg\n"
     ]
    }
   ],
   "source": [
    "# HTML Object \n",
    "html_image = browser.html\n",
    "\n",
    "# Parse HTML with Beautiful Soup\n",
    "soup = BeautifulSoup(html_image, 'lxml')\n",
    "\n",
    "# Retrieve image url\n",
    "src_image_url = soup.select_one('figure.lede a img')[\"src\"]\n",
    "\n",
    "# Website main url \n",
    "JPL='https://www.jpl.nasa.gov'\n",
    "\n",
    "# Concatenate website url with scrapped route\n",
    "featured_image_url=JPL+src_image_url\n",
    "\n",
    "print(featured_image_url)"
   ]
  },
  {
   "cell_type": "markdown",
   "metadata": {},
   "source": [
    "## Mars Weather"
   ]
  },
  {
   "cell_type": "code",
   "execution_count": 10,
   "metadata": {},
   "outputs": [],
   "source": [
    "# Visit Mars Weather Twitter through splinter module\n",
    "weather_url = 'https://twitter.com/marswxreport?lang=en'\n",
    "browser.visit(weather_url)"
   ]
  },
  {
   "cell_type": "code",
   "execution_count": 11,
   "metadata": {},
   "outputs": [
    {
     "data": {
      "text/plain": [
       "[<p class=\"TweetTextSize TweetTextSize--normal js-tweet-text tweet-text\" data-aria-label-part=\"0\" lang=\"en\">InSight sol 167 (2019-05-17) low -100.5ºC (-148.9ºF) high -20.4ºC (-4.6ºF)\n",
       " winds from the SW at 4.7 m/s (10.6 mph) gusting to 13.5 m/s (30.3 mph)\n",
       " pressure at 7.50 hPa<a class=\"twitter-timeline-link u-hidden\" data-pre-embedded=\"true\" dir=\"ltr\" href=\"https://t.co/0Eqt9nN21o\">pic.twitter.com/0Eqt9nN21o</a></p>,\n",
       " <p class=\"TweetTextSize TweetTextSize--normal js-tweet-text tweet-text\" data-aria-label-part=\"0\" lang=\"en\">InSight sol 166 (2019-05-15) low -100.5ºC (-148.8ºF) high -20.5ºC (-4.8ºF)\n",
       " winds from the W at 4.2 m/s (9.4 mph) gusting to 11.7 m/s (26.2 mph)\n",
       " pressure at 7.50 hPa</p>,\n",
       " <p class=\"TweetTextSize TweetTextSize--normal js-tweet-text tweet-text\" data-aria-label-part=\"0\" lang=\"de\">This is what a sunset on Earth looks like from above. / So sieht ein irdischer Sonnenuntergang aus, von oben gesehen. <a class=\"twitter-hashtag pretty-link js-nav\" data-query-source=\"hashtag_click\" dir=\"ltr\" href=\"/hashtag/Horizons?src=hash\"><s>#</s><b>Horizons</b></a> <a class=\"twitter-hashtag pretty-link js-nav\" data-query-source=\"hashtag_click\" dir=\"ltr\" href=\"/hashtag/Archive?src=hash\"><s>#</s><b>Archive</b></a><a class=\"twitter-timeline-link u-hidden\" data-pre-embedded=\"true\" dir=\"ltr\" href=\"https://t.co/sgijQq8hYt\">pic.twitter.com/sgijQq8hYt</a></p>,\n",
       " <p class=\"TweetTextSize TweetTextSize--normal js-tweet-text tweet-text\" data-aria-label-part=\"0\" lang=\"en\">Congratulations to our orbiting companion! \n",
       " <a class=\"twitter-atreply pretty-link js-nav\" data-mentioned-user-id=\"11348282\" dir=\"ltr\" href=\"/NASA\"><s>@</s><b>NASA</b></a>'s MRO Completes 60,000 Trips Around <a class=\"twitter-hashtag pretty-link js-nav\" data-query-source=\"hashtag_click\" dir=\"ltr\" href=\"/hashtag/Mars?src=hash\"><s>#</s><b>Mars</b></a>: <a class=\"twitter-timeline-link\" data-expanded-url=\"https://go.nasa.gov/2w0c36K\" dir=\"ltr\" href=\"https://t.co/4vrKCzKY6r\" rel=\"nofollow noopener\" target=\"_blank\" title=\"https://go.nasa.gov/2w0c36K\"><span class=\"tco-ellipsis\"></span><span class=\"invisible\">https://</span><span class=\"js-display-url\">go.nasa.gov/2w0c36K</span><span class=\"invisible\"></span><span class=\"tco-ellipsis\"><span class=\"invisible\"> </span></span></a>.<a class=\"twitter-timeline-link u-hidden\" data-pre-embedded=\"true\" dir=\"ltr\" href=\"https://t.co/Q0jtKuxBK5\">pic.twitter.com/Q0jtKuxBK5</a></p>,\n",
       " <p class=\"TweetTextSize TweetTextSize--normal js-tweet-text tweet-text\" data-aria-label-part=\"0\" lang=\"en\">InSight sol 165 (2019-05-15) low -100.3ºC (-148.6ºF) high -18.2ºC (-0.7ºF)\n",
       " winds from the SW at 4.6 m/s (10.4 mph) gusting to 13.7 m/s (30.6 mph)\n",
       " pressure at 7.50 hPa<a class=\"twitter-timeline-link u-hidden\" data-pre-embedded=\"true\" dir=\"ltr\" href=\"https://t.co/7NMgdAkFA8\">pic.twitter.com/7NMgdAkFA8</a></p>,\n",
       " <p class=\"TweetTextSize TweetTextSize--normal js-tweet-text tweet-text\" data-aria-label-part=\"0\" lang=\"en\">InSight sol 164 (2019-05-13) low -100.0ºC (-147.9ºF) high -16.6ºC (2.1ºF)\n",
       " winds from the W at 4.1 m/s (9.1 mph) gusting to 15.1 m/s (33.7 mph)\n",
       " pressure at 7.50 hPa<a class=\"twitter-timeline-link u-hidden\" data-pre-embedded=\"true\" dir=\"ltr\" href=\"https://t.co/XqV9CJUUoa\">pic.twitter.com/XqV9CJUUoa</a></p>,\n",
       " <p class=\"TweetTextSize TweetTextSize--normal js-tweet-text tweet-text\" data-aria-label-part=\"0\" lang=\"en\">Oh.   Oh my.   More clouds after sunset seen by Curiosity.  <a class=\"twitter-timeline-link\" data-expanded-url=\"https://marsmobile.jpl.nasa.gov/msl/multimedia/raw/?s=2405&amp;camera=NAV_RIGHT_\" dir=\"ltr\" href=\"https://t.co/b1gjvFbj8l\" rel=\"nofollow noopener\" target=\"_blank\" title=\"https://marsmobile.jpl.nasa.gov/msl/multimedia/raw/?s=2405&amp;camera=NAV_RIGHT_\"><span class=\"tco-ellipsis\"></span><span class=\"invisible\">https://</span><span class=\"js-display-url\">marsmobile.jpl.nasa.gov/msl/multimedia</span><span class=\"invisible\">/raw/?s=2405&amp;camera=NAV_RIGHT_</span><span class=\"tco-ellipsis\"><span class=\"invisible\"> </span>…</span></a>     Just imagine standing in the foothills of Mt Sharp as the chill of the night arrives, and watching these clouds float past.<a class=\"twitter-timeline-link u-hidden\" data-pre-embedded=\"true\" dir=\"ltr\" href=\"https://t.co/ciro0qQIve\">pic.twitter.com/ciro0qQIve</a></p>,\n",
       " <p class=\"TweetTextSize TweetTextSize--normal js-tweet-text tweet-text\" data-aria-label-part=\"0\" lang=\"en\">InSight sol 163 (2019-05-13) low -99.9ºC (-147.7ºF) high -17.7ºC (0.2ºF)\n",
       " winds from the SW at 4.3 m/s (9.7 mph) gusting to 15.2 m/s (34.0 mph)\n",
       " pressure at 7.50 hPa<a class=\"twitter-timeline-link u-hidden\" data-pre-embedded=\"true\" dir=\"ltr\" href=\"https://t.co/qtElTnSRJj\">pic.twitter.com/qtElTnSRJj</a></p>,\n",
       " <p class=\"TweetTextSize TweetTextSize--normal js-tweet-text tweet-text\" data-aria-label-part=\"0\" lang=\"en\">InSight sol 162 (2019-05-12) low -100.2ºC (-148.3ºF) high -20.3ºC (-4.5ºF)\n",
       " winds from the SW at 4.5 m/s (10.1 mph) gusting to 14.3 m/s (32.0 mph)\n",
       " pressure at 7.50 hPa<a class=\"twitter-timeline-link u-hidden\" data-pre-embedded=\"true\" dir=\"ltr\" href=\"https://t.co/23uEPf5baF\">pic.twitter.com/23uEPf5baF</a></p>,\n",
       " <p class=\"TweetTextSize TweetTextSize--normal js-tweet-text tweet-text\" data-aria-label-part=\"0\" lang=\"en\">InSight sol 161 (2019-05-11) low -98.6ºC (-145.5ºF) high -19.5ºC (-3.0ºF)\n",
       " winds from the SSE at 4.8 m/s (10.7 mph) gusting to 15.2 m/s (34.0 mph)\n",
       " pressure at 7.50 hPa<a class=\"twitter-timeline-link u-hidden\" data-pre-embedded=\"true\" dir=\"ltr\" href=\"https://t.co/dWgg2eD22v\">pic.twitter.com/dWgg2eD22v</a></p>,\n",
       " <p class=\"TweetTextSize TweetTextSize--normal js-tweet-text tweet-text\" data-aria-label-part=\"0\" lang=\"en\">InSight sol 160 (2019-05-09) low -99.5ºC (-147.0ºF) high -19.4ºC (-2.8ºF)\n",
       " winds from the W at 4.2 m/s (9.3 mph) gusting to 13.5 m/s (30.3 mph)\n",
       " pressure at 7.40 hPa<a class=\"twitter-timeline-link u-hidden\" data-pre-embedded=\"true\" dir=\"ltr\" href=\"https://t.co/OX6H1whWDC\">pic.twitter.com/OX6H1whWDC</a></p>,\n",
       " <p class=\"TweetTextSize TweetTextSize--normal js-tweet-text tweet-text\" data-aria-label-part=\"0\" lang=\"en\">InSight sol 159 (2019-05-08) low -100.3ºC (-148.5ºF) high -21.6ºC (-6.9ºF)\n",
       " winds from the SW at 4.6 m/s (10.4 mph) gusting to 15.3 m/s (34.2 mph)\n",
       " pressure at 7.40 hPa<a class=\"twitter-timeline-link u-hidden\" data-pre-embedded=\"true\" dir=\"ltr\" href=\"https://t.co/rg5UKl8dLc\">pic.twitter.com/rg5UKl8dLc</a></p>,\n",
       " <p class=\"TweetTextSize TweetTextSize--normal js-tweet-text tweet-text\" data-aria-label-part=\"0\" lang=\"en\">InSight sol 158 (2019-05-07) low -99.7ºC (-147.5ºF) high -21.8ºC (-7.2ºF)\n",
       " winds from the SSE at 4.8 m/s (10.7 mph) gusting to 13.6 m/s (30.4 mph)\n",
       " pressure at 7.50 hPa<a class=\"twitter-timeline-link u-hidden\" data-pre-embedded=\"true\" dir=\"ltr\" href=\"https://t.co/8SrPjAhpGZ\">pic.twitter.com/8SrPjAhpGZ</a></p>,\n",
       " <p class=\"TweetTextSize TweetTextSize--normal js-tweet-text tweet-text\" data-aria-label-part=\"0\" lang=\"en\">InSight sol 157 (2019-05-06) low -100.2ºC (-148.4ºF) high -18.4ºC (-1.2ºF)\n",
       " winds from the W at 4.1 m/s (9.2 mph) gusting to 14.6 m/s (32.7 mph)\n",
       " pressure at 7.40 hPa<a class=\"twitter-timeline-link u-hidden\" data-pre-embedded=\"true\" dir=\"ltr\" href=\"https://t.co/R6BliV8xpj\">pic.twitter.com/R6BliV8xpj</a></p>,\n",
       " <p class=\"TweetTextSize TweetTextSize--normal js-tweet-text tweet-text\" data-aria-label-part=\"0\" lang=\"en\">InSight sol 156 (2019-05-05) low -99.2ºC (-146.6ºF) high -18.1ºC (-0.6ºF)\n",
       " winds from the SW at 4.7 m/s (10.5 mph) gusting to 13.8 m/s (30.8 mph)\n",
       " pressure at 7.40 hPa<a class=\"twitter-timeline-link u-hidden\" data-pre-embedded=\"true\" dir=\"ltr\" href=\"https://t.co/FlGDeYg8hi\">pic.twitter.com/FlGDeYg8hi</a></p>,\n",
       " <p class=\"TweetTextSize TweetTextSize--normal js-tweet-text tweet-text\" data-aria-label-part=\"0\" lang=\"en\">InSight sol 155 (2019-05-04) low -99.3ºC (-146.8ºF) high -18.8ºC (-1.8ºF)\n",
       " winds from the SW at 4.5 m/s (10.1 mph) gusting to 14.3 m/s (31.9 mph)\n",
       " pressure at 7.40 hPa<a class=\"twitter-timeline-link u-hidden\" data-pre-embedded=\"true\" dir=\"ltr\" href=\"https://t.co/wEcSHS2b3u\">pic.twitter.com/wEcSHS2b3u</a></p>,\n",
       " <p class=\"TweetTextSize TweetTextSize--normal js-tweet-text tweet-text\" data-aria-label-part=\"0\" lang=\"en\">I’m often asked if I prefer Star Wars or Star Trek. My answer? Neither.\n",
       " \n",
       " My favorite sci-fi movie is Spaceballs. <a class=\"twitter-hashtag pretty-link js-nav\" data-query-source=\"hashtag_click\" dir=\"ltr\" href=\"/hashtag/StarWarsDay?src=hash\"><s>#</s><b>StarWarsDay</b></a> <a class=\"twitter-hashtag pretty-link js-nav\" data-query-source=\"hashtag_click\" dir=\"ltr\" href=\"/hashtag/MayThe4thBeWithYou?src=hash\"><s>#</s><b>MayThe4thBeWithYou</b></a><a class=\"twitter-timeline-link u-hidden\" data-pre-embedded=\"true\" dir=\"ltr\" href=\"https://t.co/LWxuTIhbbT\">pic.twitter.com/LWxuTIhbbT</a></p>,\n",
       " <p class=\"TweetTextSize TweetTextSize--normal js-tweet-text tweet-text\" data-aria-label-part=\"0\" lang=\"en\">InSight sol 154 (2019-05-03) low -97.6ºC (-143.7ºF) high -17.2ºC (1.0ºF)\n",
       " winds from the SW at 4.5 m/s (10.0 mph) gusting to 13.1 m/s (29.2 mph)\n",
       " pressure at 7.40 hPa<a class=\"twitter-timeline-link u-hidden\" data-pre-embedded=\"true\" dir=\"ltr\" href=\"https://t.co/0KZXlbiuXO\">pic.twitter.com/0KZXlbiuXO</a></p>,\n",
       " <p class=\"TweetTextSize TweetTextSize--normal js-tweet-text tweet-text\" data-aria-label-part=\"0\" lang=\"en\">InSight sol 153 (2019-05-02) low -98.5ºC (-145.3ºF) high -17.5ºC (0.6ºF)\n",
       " winds from the SW at 4.7 m/s (10.5 mph) gusting to 11.9 m/s (26.6 mph)\n",
       " pressure at 7.40 hPa<a class=\"twitter-timeline-link u-hidden\" data-pre-embedded=\"true\" dir=\"ltr\" href=\"https://t.co/5RdVDek7mh\">pic.twitter.com/5RdVDek7mh</a></p>,\n",
       " <p class=\"TweetTextSize TweetTextSize--normal js-tweet-text tweet-text\" data-aria-label-part=\"0\" lang=\"en\">InSight sol 152 (2019-05-01) low -98.1ºC (-144.5ºF) high -17.2ºC (1.0ºF)\n",
       " winds from the SW at 4.8 m/s (10.7 mph) gusting to 13.2 m/s (29.5 mph)\n",
       " pressure at 7.40 hPa<a class=\"twitter-timeline-link u-hidden\" data-pre-embedded=\"true\" dir=\"ltr\" href=\"https://t.co/zJGo11uNF1\">pic.twitter.com/zJGo11uNF1</a></p>]"
      ]
     },
     "execution_count": 11,
     "metadata": {},
     "output_type": "execute_result"
    }
   ],
   "source": [
    "# HTML Object \n",
    "html_weather = browser.html\n",
    "\n",
    "# Parse HTML with Beautiful Soup\n",
    "soup = BeautifulSoup(html_weather, 'lxml')\n",
    "\n",
    "# Find all tweets with p tag and class 'TweetTextSize'\n",
    "tweets = soup.find_all('p', class_='TweetTextSize')\n",
    "tweets"
   ]
  },
  {
   "cell_type": "code",
   "execution_count": 12,
   "metadata": {},
   "outputs": [
    {
     "data": {
      "text/plain": [
       "['InSight sol 167 (2019-05-17) low -100.5ºC (-148.9ºF) high -20.4ºC (-4.6ºF)\\nwinds from the SW at 4.7 m/s (10.6 mph) gusting to 13.5 m/s (30.3 mph)\\npressure at 7.50 hPa',\n",
       " 'InSight sol 166 (2019-05-15) low -100.5ºC (-148.8ºF) high -20.5ºC (-4.8ºF)\\nwinds from the W at 4.2 m/s (9.4 mph) gusting to 11.7 m/s (26.2 mph)\\npressure at 7.50 hPa',\n",
       " 'InSight sol 165 (2019-05-15) low -100.3ºC (-148.6ºF) high -18.2ºC (-0.7ºF)\\nwinds from the SW at 4.6 m/s (10.4 mph) gusting to 13.7 m/s (30.6 mph)\\npressure at 7.50 hPa',\n",
       " 'InSight sol 164 (2019-05-13) low -100.0ºC (-147.9ºF) high -16.6ºC (2.1ºF)\\nwinds from the W at 4.1 m/s (9.1 mph) gusting to 15.1 m/s (33.7 mph)\\npressure at 7.50 hPa',\n",
       " 'InSight sol 163 (2019-05-13) low -99.9ºC (-147.7ºF) high -17.7ºC (0.2ºF)\\nwinds from the SW at 4.3 m/s (9.7 mph) gusting to 15.2 m/s (34.0 mph)\\npressure at 7.50 hPa',\n",
       " 'InSight sol 162 (2019-05-12) low -100.2ºC (-148.3ºF) high -20.3ºC (-4.5ºF)\\nwinds from the SW at 4.5 m/s (10.1 mph) gusting to 14.3 m/s (32.0 mph)\\npressure at 7.50 hPa',\n",
       " 'InSight sol 161 (2019-05-11) low -98.6ºC (-145.5ºF) high -19.5ºC (-3.0ºF)\\nwinds from the SSE at 4.8 m/s (10.7 mph) gusting to 15.2 m/s (34.0 mph)\\npressure at 7.50 hPa',\n",
       " 'InSight sol 160 (2019-05-09) low -99.5ºC (-147.0ºF) high -19.4ºC (-2.8ºF)\\nwinds from the W at 4.2 m/s (9.3 mph) gusting to 13.5 m/s (30.3 mph)\\npressure at 7.40 hPa',\n",
       " 'InSight sol 159 (2019-05-08) low -100.3ºC (-148.5ºF) high -21.6ºC (-6.9ºF)\\nwinds from the SW at 4.6 m/s (10.4 mph) gusting to 15.3 m/s (34.2 mph)\\npressure at 7.40 hPa',\n",
       " 'InSight sol 158 (2019-05-07) low -99.7ºC (-147.5ºF) high -21.8ºC (-7.2ºF)\\nwinds from the SSE at 4.8 m/s (10.7 mph) gusting to 13.6 m/s (30.4 mph)\\npressure at 7.50 hPa',\n",
       " 'InSight sol 157 (2019-05-06) low -100.2ºC (-148.4ºF) high -18.4ºC (-1.2ºF)\\nwinds from the W at 4.1 m/s (9.2 mph) gusting to 14.6 m/s (32.7 mph)\\npressure at 7.40 hPa',\n",
       " 'InSight sol 156 (2019-05-05) low -99.2ºC (-146.6ºF) high -18.1ºC (-0.6ºF)\\nwinds from the SW at 4.7 m/s (10.5 mph) gusting to 13.8 m/s (30.8 mph)\\npressure at 7.40 hPa',\n",
       " 'InSight sol 155 (2019-05-04) low -99.3ºC (-146.8ºF) high -18.8ºC (-1.8ºF)\\nwinds from the SW at 4.5 m/s (10.1 mph) gusting to 14.3 m/s (31.9 mph)\\npressure at 7.40 hPa',\n",
       " 'InSight sol 154 (2019-05-03) low -97.6ºC (-143.7ºF) high -17.2ºC (1.0ºF)\\nwinds from the SW at 4.5 m/s (10.0 mph) gusting to 13.1 m/s (29.2 mph)\\npressure at 7.40 hPa',\n",
       " 'InSight sol 153 (2019-05-02) low -98.5ºC (-145.3ºF) high -17.5ºC (0.6ºF)\\nwinds from the SW at 4.7 m/s (10.5 mph) gusting to 11.9 m/s (26.6 mph)\\npressure at 7.40 hPa',\n",
       " 'InSight sol 152 (2019-05-01) low -98.1ºC (-144.5ºF) high -17.2ºC (1.0ºF)\\nwinds from the SW at 4.8 m/s (10.7 mph) gusting to 13.2 m/s (29.5 mph)\\npressure at 7.40 hPa']"
      ]
     },
     "execution_count": 12,
     "metadata": {},
     "output_type": "execute_result"
    }
   ],
   "source": [
    "# Search entries with weather-related words and collect them in a list\n",
    "weather_tweets=[]\n",
    "\n",
    "for t in tweets:\n",
    "    weather_tweet = t.text.strip()\n",
    "    if ('sol' and 'low' and 'high') in weather_tweet:\n",
    "        # Split picture address\n",
    "        weather_tweet_split=weather_tweet.split('pic')[0]\n",
    "        weather_tweets.append(weather_tweet_split)\n",
    "    else:pass\n",
    "\n",
    "weather_tweets"
   ]
  },
  {
   "cell_type": "code",
   "execution_count": 13,
   "metadata": {},
   "outputs": [
    {
     "name": "stdout",
     "output_type": "stream",
     "text": [
      "InSight sol 167 (2019-05-17) low -100.5ºC (-148.9ºF) high -20.4ºC (-4.6ºF)\n",
      "winds from the SW at 4.7 m/s (10.6 mph) gusting to 13.5 m/s (30.3 mph)\n",
      "pressure at 7.50 hPa\n"
     ]
    }
   ],
   "source": [
    "# Latest Mars weather tweet\n",
    "mars_weather = weather_tweets[0]\n",
    "print(mars_weather)"
   ]
  },
  {
   "cell_type": "markdown",
   "metadata": {},
   "source": [
    "## Mars Facts"
   ]
  },
  {
   "cell_type": "code",
   "execution_count": 14,
   "metadata": {},
   "outputs": [],
   "source": [
    "# Visit the Mars Facts webpage through splinter module\n",
    "facts_url = 'https://space-facts.com/mars/'\n",
    "browser.visit(facts_url)"
   ]
  },
  {
   "cell_type": "code",
   "execution_count": 15,
   "metadata": {},
   "outputs": [
    {
     "data": {
      "text/plain": [
       "[                      0                              1\n",
       " 0  Equatorial Diameter:                       6,792 km\n",
       " 1       Polar Diameter:                       6,752 km\n",
       " 2                 Mass:  6.42 x 10^23 kg (10.7% Earth)\n",
       " 3                Moons:            2 (Phobos & Deimos)\n",
       " 4       Orbit Distance:       227,943,824 km (1.52 AU)\n",
       " 5         Orbit Period:           687 days (1.9 years)\n",
       " 6  Surface Temperature:                  -153 to 20 °C\n",
       " 7         First Record:              2nd millennium BC\n",
       " 8          Recorded By:           Egyptian astronomers]"
      ]
     },
     "execution_count": 15,
     "metadata": {},
     "output_type": "execute_result"
    }
   ],
   "source": [
    "tables = pd.read_html(facts_url)\n",
    "tables"
   ]
  },
  {
   "cell_type": "code",
   "execution_count": 16,
   "metadata": {},
   "outputs": [
    {
     "data": {
      "text/html": [
       "<div>\n",
       "<style scoped>\n",
       "    .dataframe tbody tr th:only-of-type {\n",
       "        vertical-align: middle;\n",
       "    }\n",
       "\n",
       "    .dataframe tbody tr th {\n",
       "        vertical-align: top;\n",
       "    }\n",
       "\n",
       "    .dataframe thead th {\n",
       "        text-align: right;\n",
       "    }\n",
       "</style>\n",
       "<table border=\"1\" class=\"dataframe\">\n",
       "  <thead>\n",
       "    <tr style=\"text-align: right;\">\n",
       "      <th></th>\n",
       "      <th>Profile</th>\n",
       "    </tr>\n",
       "    <tr>\n",
       "      <th>Mars Planet</th>\n",
       "      <th></th>\n",
       "    </tr>\n",
       "  </thead>\n",
       "  <tbody>\n",
       "    <tr>\n",
       "      <th>Equatorial Diameter:</th>\n",
       "      <td>6,792 km</td>\n",
       "    </tr>\n",
       "    <tr>\n",
       "      <th>Polar Diameter:</th>\n",
       "      <td>6,752 km</td>\n",
       "    </tr>\n",
       "    <tr>\n",
       "      <th>Mass:</th>\n",
       "      <td>6.42 x 10^23 kg (10.7% Earth)</td>\n",
       "    </tr>\n",
       "    <tr>\n",
       "      <th>Moons:</th>\n",
       "      <td>2 (Phobos &amp; Deimos)</td>\n",
       "    </tr>\n",
       "    <tr>\n",
       "      <th>Orbit Distance:</th>\n",
       "      <td>227,943,824 km (1.52 AU)</td>\n",
       "    </tr>\n",
       "    <tr>\n",
       "      <th>Orbit Period:</th>\n",
       "      <td>687 days (1.9 years)</td>\n",
       "    </tr>\n",
       "    <tr>\n",
       "      <th>Surface Temperature:</th>\n",
       "      <td>-153 to 20 °C</td>\n",
       "    </tr>\n",
       "    <tr>\n",
       "      <th>First Record:</th>\n",
       "      <td>2nd millennium BC</td>\n",
       "    </tr>\n",
       "    <tr>\n",
       "      <th>Recorded By:</th>\n",
       "      <td>Egyptian astronomers</td>\n",
       "    </tr>\n",
       "  </tbody>\n",
       "</table>\n",
       "</div>"
      ],
      "text/plain": [
       "                                            Profile\n",
       "Mars Planet                                        \n",
       "Equatorial Diameter:                       6,792 km\n",
       "Polar Diameter:                            6,752 km\n",
       "Mass:                 6.42 x 10^23 kg (10.7% Earth)\n",
       "Moons:                          2 (Phobos & Deimos)\n",
       "Orbit Distance:            227,943,824 km (1.52 AU)\n",
       "Orbit Period:                  687 days (1.9 years)\n",
       "Surface Temperature:                  -153 to 20 °C\n",
       "First Record:                     2nd millennium BC\n",
       "Recorded By:                   Egyptian astronomers"
      ]
     },
     "execution_count": 16,
     "metadata": {},
     "output_type": "execute_result"
    }
   ],
   "source": [
    "df=tables[0]\n",
    "df.columns=['Mars Planet','Profile']\n",
    "mars_df=df.set_index('Mars Planet')\n",
    "mars_df"
   ]
  },
  {
   "cell_type": "code",
   "execution_count": 17,
   "metadata": {},
   "outputs": [
    {
     "data": {
      "text/plain": [
       "'<table border=\"1\" class=\"dataframe\">\\n  <thead>\\n    <tr style=\"text-align: right;\">\\n      <th>Profile</th>\\n    </tr>\\n  </thead>\\n  <tbody>\\n    <tr>\\n      <td>6,792 km</td>\\n    </tr>\\n    <tr>\\n      <td>6,752 km</td>\\n    </tr>\\n    <tr>\\n      <td>6.42 x 10^23 kg (10.7% Earth)</td>\\n    </tr>\\n    <tr>\\n      <td>2 (Phobos &amp; Deimos)</td>\\n    </tr>\\n    <tr>\\n      <td>227,943,824 km (1.52 AU)</td>\\n    </tr>\\n    <tr>\\n      <td>687 days (1.9 years)</td>\\n    </tr>\\n    <tr>\\n      <td>-153 to 20 °C</td>\\n    </tr>\\n    <tr>\\n      <td>2nd millennium BC</td>\\n    </tr>\\n    <tr>\\n      <td>Egyptian astronomers</td>\\n    </tr>\\n  </tbody>\\n</table>'"
      ]
     },
     "execution_count": 17,
     "metadata": {},
     "output_type": "execute_result"
    }
   ],
   "source": [
    "# DataFrames to HTML tables. to_html() generates tables\n",
    "html_table = mars_df.to_html(index=False)\n",
    "html_table"
   ]
  },
  {
   "cell_type": "code",
   "execution_count": 18,
   "metadata": {},
   "outputs": [
    {
     "data": {
      "text/plain": [
       "'<table border=\"1\" class=\"dataframe\">  <thead>    <tr style=\"text-align: right;\">      <th>Profile</th>    </tr>  </thead>  <tbody>    <tr>      <td>6,792 km</td>    </tr>    <tr>      <td>6,752 km</td>    </tr>    <tr>      <td>6.42 x 10^23 kg (10.7% Earth)</td>    </tr>    <tr>      <td>2 (Phobos &amp; Deimos)</td>    </tr>    <tr>      <td>227,943,824 km (1.52 AU)</td>    </tr>    <tr>      <td>687 days (1.9 years)</td>    </tr>    <tr>      <td>-153 to 20 °C</td>    </tr>    <tr>      <td>2nd millennium BC</td>    </tr>    <tr>      <td>Egyptian astronomers</td>    </tr>  </tbody></table>'"
      ]
     },
     "execution_count": 18,
     "metadata": {},
     "output_type": "execute_result"
    }
   ],
   "source": [
    "# to strip unwanted newlines to clean up the table\n",
    "html_table.replace('\\n', '')"
   ]
  },
  {
   "cell_type": "code",
   "execution_count": 19,
   "metadata": {},
   "outputs": [],
   "source": [
    "# save\n",
    "df.to_html('mars_table.html', index=False)"
   ]
  },
  {
   "cell_type": "markdown",
   "metadata": {},
   "source": [
    "## Mars Hemispheres"
   ]
  },
  {
   "cell_type": "code",
   "execution_count": 20,
   "metadata": {},
   "outputs": [],
   "source": [
    "# Visit the USGS Astrogeology site through splinter module\n",
    "usgs_url = 'https://astrogeology.usgs.gov/search/results?q=hemisphere+enhanced&k1=target&v1=Mars'\n",
    "browser.visit(usgs_url)"
   ]
  },
  {
   "cell_type": "code",
   "execution_count": 21,
   "metadata": {},
   "outputs": [],
   "source": [
    "# HTML Object \n",
    "html_hemispheres = browser.html\n",
    "\n",
    "# Parse HTML with Beautiful Soup\n",
    "soup = BeautifulSoup(html_hemispheres,'lxml')\n",
    "\n",
    "# Retreive all items that contain mars hemispheres information\n",
    "items=soup.find_all('div',class_='item')"
   ]
  },
  {
   "cell_type": "code",
   "execution_count": 22,
   "metadata": {},
   "outputs": [
    {
     "data": {
      "text/plain": [
       "[{'title': 'Cerberus Hemisphere Enhanced',\n",
       "  'img_url': 'https://astrogeology.usgs.gov/cache/images/cfa62af2557222a02478f1fcd781d445_cerberus_enhanced.tif_full.jpg'},\n",
       " {'title': 'Schiaparelli Hemisphere Enhanced',\n",
       "  'img_url': 'https://astrogeology.usgs.gov/cache/images/3cdd1cbf5e0813bba925c9030d13b62e_schiaparelli_enhanced.tif_full.jpg'},\n",
       " {'title': 'Syrtis Major Hemisphere Enhanced',\n",
       "  'img_url': 'https://astrogeology.usgs.gov/cache/images/ae209b4e408bb6c3e67b6af38168cf28_syrtis_major_enhanced.tif_full.jpg'},\n",
       " {'title': 'Valles Marineris Hemisphere Enhanced',\n",
       "  'img_url': 'https://astrogeology.usgs.gov/cache/images/7cf2da4bf549ed01c17f206327be4db7_valles_marineris_enhanced.tif_full.jpg'}]"
      ]
     },
     "execution_count": 22,
     "metadata": {},
     "output_type": "execute_result"
    }
   ],
   "source": [
    "# Create an empty list to store scrapped data as dictionaries\n",
    "hemisphere_image_urls = []\n",
    "\n",
    "# main_url for usgs \n",
    "main_url = 'https://astrogeology.usgs.gov'\n",
    "\n",
    "# Loop through the items previously stored\n",
    "for i in items: \n",
    "    \n",
    "    # Find link that leads to full image page\n",
    "    hemi_url = i.find('a', class_='itemLink product-item')['href']\n",
    "    \n",
    "    # Visit the link that contains the full image website \n",
    "    browser.visit(main_url + hemi_url)\n",
    "    \n",
    "    # HTML Object of hemispheres\n",
    "    soup = BeautifulSoup(browser.html,'lxml')\n",
    "    \n",
    "    # Hemisphere title\n",
    "    title=soup.select_one('div .content section h2').text\n",
    "    \n",
    "    # Hemisphere img_url\n",
    "    src_img_url=soup.find('img', class_='wide-image')['src']\n",
    "    # Concat\n",
    "    img_url=main_url+src_img_url\n",
    "    \n",
    "    # Dictionary\n",
    "    hemi_dict={'title':title, 'img_url':img_url}\n",
    "    \n",
    "    # Append to the list\n",
    "    hemisphere_image_urls.append(hemi_dict)\n",
    "\n",
    "hemisphere_image_urls"
   ]
  }
 ],
 "metadata": {
  "kernelspec": {
   "display_name": "Python 3",
   "language": "python",
   "name": "python3"
  },
  "language_info": {
   "codemirror_mode": {
    "name": "ipython",
    "version": 3
   },
   "file_extension": ".py",
   "mimetype": "text/x-python",
   "name": "python",
   "nbconvert_exporter": "python",
   "pygments_lexer": "ipython3",
   "version": "3.7.1"
  }
 },
 "nbformat": 4,
 "nbformat_minor": 2
}
